{
 "cells": [
  {
   "cell_type": "code",
   "execution_count": 134,
   "id": "8b00a6e0",
   "metadata": {},
   "outputs": [],
   "source": [
    "import tensorflow as tf\n",
    "import keras\n",
    "import sys"
   ]
  },
  {
   "cell_type": "code",
   "execution_count": 135,
   "id": "2b4f8333",
   "metadata": {},
   "outputs": [
    {
     "name": "stdout",
     "output_type": "stream",
     "text": [
      "2.10.0\n",
      "2.10.0\n",
      "3.9.12 (main, Apr  4 2022, 05:22:27) [MSC v.1916 64 bit (AMD64)]\n"
     ]
    }
   ],
   "source": [
    "print(tf.__version__)\n",
    "print(keras.__version__)\n",
    "print(sys.version)"
   ]
  },
  {
   "cell_type": "code",
   "execution_count": 136,
   "id": "d5a9ac6a",
   "metadata": {},
   "outputs": [],
   "source": [
    "import numpy as np\n",
    "import matplotlib"
   ]
  },
  {
   "cell_type": "code",
   "execution_count": 137,
   "id": "71f47c94",
   "metadata": {},
   "outputs": [],
   "source": [
    "from keras.utils import np_utils\n",
    "from keras.datasets import mnist\n",
    "from keras.models import Sequential\n",
    "from keras.layers import Dense, Activation"
   ]
  },
  {
   "cell_type": "code",
   "execution_count": 138,
   "id": "9d14c6ea",
   "metadata": {},
   "outputs": [],
   "source": [
    "(X_train, y_train), (X_test,y_test) = mnist.load_data()"
   ]
  },
  {
   "cell_type": "code",
   "execution_count": 139,
   "id": "8f561144",
   "metadata": {},
   "outputs": [],
   "source": [
    "import matplotlib.pyplot as plt"
   ]
  },
  {
   "cell_type": "code",
   "execution_count": 140,
   "id": "913189e4",
   "metadata": {},
   "outputs": [
    {
     "name": "stdout",
     "output_type": "stream",
     "text": [
      "label=[5 0 4 1 9 2 1 3 1 4 3 5 3 6 1]\n"
     ]
    },
    {
     "data": {
      "image/png": "[encoded data removed]",
      "text/plain": [
       "<Figure size 1296x864 with 15 Axes>"
      ]
     },
     "metadata": {
      "needs_background": "light"
     },
     "output_type": "display_data"
    }
   ],
   "source": [
    "figure, axes = plt.subplots(nrows = 3, ncols = 5 )\n",
    "figure.set_size_inches(18,12)\n",
    "\n",
    "plt.gray()\n",
    "print(\"label={}\".format(y_train[0:15]))\n",
    "\n",
    "col = 0\n",
    "for row in range(0,3):\n",
    "    col = row * 5\n",
    "    axes[row][0].imshow(X_train[col])\n",
    "    axes[row][1].imshow(X_train[col+ 1])\n",
    "    axes[row][2].imshow(X_train[col+ 2])\n",
    "    axes[row][3].imshow(X_train[col+ 3])\n",
    "    axes[row][4].imshow(X_train[col+ 4])"
   ]
  },
  {
   "cell_type": "code",
   "execution_count": 141,
   "id": "2f6c2c3a",
   "metadata": {},
   "outputs": [],
   "source": [
    "X_train = X_train.reshape(60000, 784)\n",
    "X_test =X_test.reshape(10000, 784)\n",
    "y_train = np_utils.to_categorical(y_train)\n",
    "y_test = np_utils.to_categorical(y_test)"
   ]
  },
  {
   "cell_type": "markdown",
   "id": "d3928b6a",
   "metadata": {},
   "source": [
    "##  입력층에 입력되는 값을 정규화 시키기"
   ]
  },
  {
   "cell_type": "code",
   "execution_count": 142,
   "id": "25bdcc1d",
   "metadata": {},
   "outputs": [],
   "source": [
    "X_train = X_train/255.0\n",
    "X_test = X_test/255.0"
   ]
  },
  {
   "cell_type": "code",
   "execution_count": 143,
   "id": "de96fd54",
   "metadata": {},
   "outputs": [
    {
     "data": {
      "text/plain": [
       "(0.0, 1.0)"
      ]
     },
     "execution_count": 143,
     "metadata": {},
     "output_type": "execute_result"
    }
   ],
   "source": [
    "X_train.min(), X_train.max()"
   ]
  },
  {
   "cell_type": "code",
   "execution_count": null,
   "id": "0867cfae",
   "metadata": {},
   "outputs": [],
   "source": []
  },
  {
   "cell_type": "code",
   "execution_count": null,
   "id": "4d50dbac",
   "metadata": {},
   "outputs": [],
   "source": []
  },
  {
   "cell_type": "code",
   "execution_count": null,
   "id": "1e619d8c",
   "metadata": {},
   "outputs": [],
   "source": []
  },
  {
   "cell_type": "markdown",
   "id": "d29561c6",
   "metadata": {},
   "source": [
    "### 모델 구축 및 학습, 평가"
   ]
  },
  {
   "cell_type": "code",
   "execution_count": 144,
   "id": "72be8012",
   "metadata": {},
   "outputs": [],
   "source": [
    "model = Sequential()\n",
    "model.add(Dense(units=256, input_dim=28*28, activation ='relu'))\n",
    "model.add(Dense(units=10, activation = 'softmax' )) ## 다항분류일경우 마지막 활성화 함수는 softmax"
   ]
  },
  {
   "cell_type": "code",
   "execution_count": 145,
   "id": "a45d7a7d",
   "metadata": {},
   "outputs": [],
   "source": [
    "model.compile(loss= 'categorical_crossentropy',\n",
    "             optimizer='sgd',\n",
    "             metrics=['accuracy'])"
   ]
  },
  {
   "cell_type": "code",
   "execution_count": 146,
   "id": "9d372c8c",
   "metadata": {},
   "outputs": [
    {
     "name": "stdout",
     "output_type": "stream",
     "text": [
      "Epoch 1/10\n",
      "1875/1875 [==============================] - 4s 2ms/step - loss: 0.6147 - accuracy: 0.8489 - val_loss: 0.3497 - val_accuracy: 0.9028\n",
      "Epoch 2/10\n",
      "1875/1875 [==============================] - 3s 2ms/step - loss: 0.3285 - accuracy: 0.9086 - val_loss: 0.2882 - val_accuracy: 0.9201\n",
      "Epoch 3/10\n",
      "1875/1875 [==============================] - 3s 2ms/step - loss: 0.2803 - accuracy: 0.9223 - val_loss: 0.2539 - val_accuracy: 0.9291\n",
      "Epoch 4/10\n",
      "1875/1875 [==============================] - 3s 2ms/step - loss: 0.2493 - accuracy: 0.9308 - val_loss: 0.2303 - val_accuracy: 0.9369\n",
      "Epoch 5/10\n",
      "1875/1875 [==============================] - 3s 2ms/step - loss: 0.2261 - accuracy: 0.9373 - val_loss: 0.2100 - val_accuracy: 0.9411\n",
      "Epoch 6/10\n",
      "1875/1875 [==============================] - 3s 2ms/step - loss: 0.2075 - accuracy: 0.9422 - val_loss: 0.1967 - val_accuracy: 0.9451\n",
      "Epoch 7/10\n",
      "1875/1875 [==============================] - 3s 2ms/step - loss: 0.1919 - accuracy: 0.9459 - val_loss: 0.1842 - val_accuracy: 0.9485\n",
      "Epoch 8/10\n",
      "1875/1875 [==============================] - 3s 2ms/step - loss: 0.1785 - accuracy: 0.9495 - val_loss: 0.1725 - val_accuracy: 0.9530\n",
      "Epoch 9/10\n",
      "1875/1875 [==============================] - 3s 2ms/step - loss: 0.1669 - accuracy: 0.9531 - val_loss: 0.1623 - val_accuracy: 0.9550\n",
      "Epoch 10/10\n",
      "1875/1875 [==============================] - 3s 2ms/step - loss: 0.1569 - accuracy: 0.9560 - val_loss: 0.1536 - val_accuracy: 0.9562\n"
     ]
    }
   ],
   "source": [
    "hist = model.fit(X_train ,y_train,\n",
    "                 validation_data=(X_test, y_test),\n",
    "                 epochs=10, \n",
    "                 batch_size=32)"
   ]
  },
  {
   "cell_type": "code",
   "execution_count": 147,
   "id": "754e7931",
   "metadata": {},
   "outputs": [
    {
     "name": "stdout",
     "output_type": "stream",
     "text": [
      "## training loss and acc ##\n",
      "[0.6147405505180359, 0.32845190167427063, 0.28025999665260315, 0.24934114515781403, 0.22611188888549805, 0.2075451761484146, 0.1918931007385254, 0.1784522980451584, 0.16693338751792908, 0.1568736433982849]\n",
      "[0.8488500118255615, 0.9086333513259888, 0.9223333597183228, 0.9307666420936584, 0.9372666478157043, 0.9421833157539368, 0.9458500146865845, 0.9495166540145874, 0.9531166553497314, 0.9559666514396667]\n"
     ]
    }
   ],
   "source": [
    "print('## training loss and acc ##')\n",
    "print(hist.history['loss'])        \n",
    "print(hist.history['accuracy'])"
   ]
  },
  {
   "cell_type": "code",
   "execution_count": 148,
   "id": "ab1e9337",
   "metadata": {},
   "outputs": [
    {
     "data": {
      "text/plain": [
       "<matplotlib.legend.Legend at 0x23fb7c28b20>"
      ]
     },
     "execution_count": 148,
     "metadata": {},
     "output_type": "execute_result"
    },
    {
     "data": {
      "image/png": "[encoded data removed]",
      "text/plain": [
       "<Figure size 432x288 with 1 Axes>"
      ]
     },
     "metadata": {
      "needs_background": "light"
     },
     "output_type": "display_data"
    }
   ],
   "source": [
    "plt.plot(hist.history['loss'], label=\"loss\")\n",
    "plt.plot(hist.history['accuracy'], label=\"accuracy\")\n",
    "plt.legend()"
   ]
  },
  {
   "cell_type": "code",
   "execution_count": null,
   "id": "41752819",
   "metadata": {},
   "outputs": [],
   "source": []
  },
  {
   "cell_type": "code",
   "execution_count": null,
   "id": "d7f3f890",
   "metadata": {},
   "outputs": [],
   "source": []
  }
 ],
 "metadata": {
  "kernelspec": {
   "display_name": "Python 3.9.12 ('base')",
   "language": "python",
   "name": "python3"
  },
  "language_info": {
   "codemirror_mode": {
    "name": "ipython",
    "version": 3
   },
   "file_extension": ".py",
   "mimetype": "text/x-python",
   "name": "python",
   "nbconvert_exporter": "python",
   "pygments_lexer": "ipython3",
   "version": "3.9.12"
  },
  "vscode": {
   "interpreter": {
    "hash": "07ff95837247c07dfe1cb10a6a6e0c9e72b87049c975e9712a2b827e2f834a04"
   }
  }
 },
 "nbformat": 4,
 "nbformat_minor": 5
}
